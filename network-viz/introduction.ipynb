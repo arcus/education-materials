{
 "cells": [
  {
   "cell_type": "markdown",
   "metadata": {
    "colab_type": "text",
    "id": "rTGfEyYplEES"
   },
   "source": [
    "# Network analysis and visualization with NetworkX"
   ]
  },
  {
   "cell_type": "markdown",
   "metadata": {},
   "source": [
    "In this notebook, you will gain hands-on experience building and investigating networks in Python.\n",
    "\n",
    "\n",
    "You will build NetworkX Graphs (ad hoc and from tabular data), draw circle and spring-directed graphs, compute various measureas of betwenness, and detect and isolate subgraphs!"
   ]
  },
  {
   "cell_type": "code",
   "execution_count": null,
   "metadata": {
    "colab": {},
    "colab_type": "code",
    "id": "5OL_B2BTlEEU"
   },
   "outputs": [],
   "source": [
    "import networkx as nx\n",
    "import matplotlib.pyplot as plt\n",
    "import numpy as np\n",
    "import warnings\n",
    "warnings.filterwarnings(\"ignore\")\n",
    "%matplotlib inline"
   ]
  },
  {
   "cell_type": "code",
   "execution_count": null,
   "metadata": {
    "colab": {
     "base_uri": "https://localhost:8080/",
     "height": 319
    },
    "colab_type": "code",
    "id": "rSidxoNNlEEe",
    "outputId": "e7e61ffa-cba2-4c95-8a93-70d9236ce746"
   },
   "outputs": [],
   "source": [
    "nx.draw_circular(nx.erdos_renyi_graph(10, 0.4), with_labels=True)"
   ]
  },
  {
   "cell_type": "markdown",
   "metadata": {
    "colab_type": "text",
    "id": "vaTHseT8lEEn"
   },
   "source": [
    "### Examples of Networks?\n",
    "\n",
    "Can you think of some real world networks?\n",
    "\n",
    "### Using `NetworkX`"
   ]
  },
  {
   "cell_type": "code",
   "execution_count": null,
   "metadata": {
    "colab": {},
    "colab_type": "code",
    "id": "JlEhNHgTlEEo"
   },
   "outputs": [],
   "source": [
    "# Creating a graph/network object\n",
    "G = nx.Graph()"
   ]
  },
  {
   "cell_type": "code",
   "execution_count": null,
   "metadata": {
    "colab": {
     "base_uri": "https://localhost:8080/",
     "height": 35
    },
    "colab_type": "code",
    "id": "EmgnCgqylEEt",
    "outputId": "eaa219e5-6bac-4819-d289-04c5fee2db26"
   },
   "outputs": [],
   "source": [
    "# accessing nodes\n",
    "G.nodes()"
   ]
  },
  {
   "cell_type": "code",
   "execution_count": null,
   "metadata": {
    "colab": {},
    "colab_type": "code",
    "id": "h5whlFXnlEEx",
    "outputId": "574226fd-6d8b-4137-f969-bc8b0ce7c653"
   },
   "outputs": [],
   "source": [
    "# accessing edges\n",
    "G.edges()"
   ]
  },
  {
   "cell_type": "code",
   "execution_count": null,
   "metadata": {
    "colab": {},
    "colab_type": "code",
    "id": "HupU2rJplEE3"
   },
   "outputs": [],
   "source": [
    "# Let's create a recipe network \n",
    "# add_node() vs add_nodes_from()"
   ]
  },
  {
   "cell_type": "code",
   "execution_count": null,
   "metadata": {
    "colab": {},
    "colab_type": "code",
    "id": "aDDmwf8qlEE8"
   },
   "outputs": [],
   "source": [
    "# Similarly, we can use add_edge() or add_edges_from()"
   ]
  },
  {
   "cell_type": "code",
   "execution_count": null,
   "metadata": {
    "colab": {
     "base_uri": "https://localhost:8080/",
     "height": 35
    },
    "colab_type": "code",
    "id": "65kFjx_LlEE_",
    "outputId": "d18b9149-a081-46ee-808b-34254ec8ec01"
   },
   "outputs": [],
   "source": [
    "G.nodes()"
   ]
  },
  {
   "cell_type": "code",
   "execution_count": null,
   "metadata": {
    "colab": {
     "base_uri": "https://localhost:8080/",
     "height": 35
    },
    "colab_type": "code",
    "id": "jUbK6vtZlEFD",
    "outputId": "82029eb8-9212-418a-ed41-c05a9fc3c9e9"
   },
   "outputs": [],
   "source": [
    "G.edges()"
   ]
  },
  {
   "cell_type": "code",
   "execution_count": null,
   "metadata": {
    "colab": {
     "base_uri": "https://localhost:8080/",
     "height": 319
    },
    "colab_type": "code",
    "id": "CX2i_df3lEFI",
    "outputId": "ec4ef2f4-8bfa-4da7-e033-b66cbda35c75"
   },
   "outputs": [],
   "source": [
    "nx.draw(G, with_labels=True)"
   ]
  },
  {
   "cell_type": "code",
   "execution_count": null,
   "metadata": {
    "colab": {},
    "colab_type": "code",
    "id": "rpQ5spyLlEFM"
   },
   "outputs": [],
   "source": [
    "# any hashable object can be a node in the network\n",
    "G.add_nodes_from([1, 2])"
   ]
  },
  {
   "cell_type": "code",
   "execution_count": null,
   "metadata": {
    "colab": {
     "base_uri": "https://localhost:8080/",
     "height": 35
    },
    "colab_type": "code",
    "id": "e_Oi3DwYlEFQ",
    "outputId": "77d0da68-7caa-4324-c832-3ca5176fdb68"
   },
   "outputs": [],
   "source": [
    "G['Tomato']['Eggs']"
   ]
  },
  {
   "cell_type": "markdown",
   "metadata": {},
   "source": [
    "### Let's work on a read world network.\n"
   ]
  },
  {
   "cell_type": "code",
   "execution_count": null,
   "metadata": {
    "colab": {},
    "colab_type": "code",
    "id": "uOCVJ2XKlEFZ"
   },
   "outputs": [],
   "source": [
    "import csv\n",
    "import pandas as pd\n",
    "\n",
    "# create a new Graph object, which is empty for now\n",
    "dolphin_friends = nx.Graph()\n",
    "\n",
    "# URL to the data -- note you can replace this with a relative filepath on your computer \n",
    "# if you've downloaded the data locally\n",
    "path_to_data = 'https://raw.githubusercontent.com/arcus/education-materials/master/network-viz/dolphin.txt'\n",
    "\n",
    "# read the data into a pandas DataFrame\n",
    "data = pd.read_csv(path_to_data, sep='\\t', header=None)\n",
    "data.head()"
   ]
  },
  {
   "cell_type": "code",
   "execution_count": null,
   "metadata": {},
   "outputs": [],
   "source": [
    "# iterate through every row in our data. Add a new edge for every row.\n",
    "# (NetworkX will figure out the nodes automatically based on the edges -- very convenient!)\n",
    "for row in data.itertuples():\n",
    "    dolphin_friends.add_edge(row[0], row[1])"
   ]
  },
  {
   "cell_type": "code",
   "execution_count": null,
   "metadata": {
    "colab": {
     "base_uri": "https://localhost:8080/",
     "height": 52
    },
    "colab_type": "code",
    "id": "ClB4kuLdlEFd",
    "outputId": "f0c98a13-c565-45ab-c7d1-97b217f814ea"
   },
   "outputs": [],
   "source": [
    "print(dolphin_friends.number_of_edges())\n",
    "print(dolphin_friends.number_of_nodes())"
   ]
  },
  {
   "cell_type": "markdown",
   "metadata": {
    "colab_type": "text",
    "id": "viwncE_DlEFk"
   },
   "source": [
    "#### Can we find the most influential dolphin in this network?\n",
    "\n",
    "##### How do we evaluate the importance of some individuals in a network?\n",
    "\n",
    "Within a social network, there will be certain individuals which perform certain important functions. For example, there may be hyper-connected individuals who are connected to many, many more people. They would be of use in the spreading of information. Alternatively, if this were a disease contact network, identifying them would be useful in stopping the spread of diseases. How would one identify these people?"
   ]
  },
  {
   "cell_type": "markdown",
   "metadata": {
    "colab_type": "text",
    "id": "VhF61a_FlEFl"
   },
   "source": [
    "### Exercise \n",
    "\n",
    "Create a list of (node, degree of node) tuples and find the node with maximum degree.\n",
    "\n",
    "degree of node == number of neighbors"
   ]
  },
  {
   "cell_type": "code",
   "execution_count": null,
   "metadata": {
    "colab": {
     "base_uri": "https://localhost:8080/",
     "height": 35
    },
    "colab_type": "code",
    "id": "n8j_l0MGlEFm",
    "outputId": "b0917c09-fb98-4989-cf22-ac5c85fa1897"
   },
   "outputs": [],
   "source": [
    "result = [(node, len(list(dolphin_friends.neighbors(node))))\n",
    "          for node in dolphin_friends.nodes()]"
   ]
  },
  {
   "cell_type": "markdown",
   "metadata": {
    "colab_type": "text",
    "id": "hg_T6HfKlEFo"
   },
   "source": [
    "Use the sorted() function to find the node with the highest degree, or number of neighbors"
   ]
  },
  {
   "cell_type": "code",
   "execution_count": null,
   "metadata": {
    "colab": {
     "base_uri": "https://localhost:8080/",
     "height": 1000
    },
    "colab_type": "code",
    "id": "8YYrZPG_lEFp",
    "outputId": "a913f61c-9b27-4e9f-bb96-515065b2fd6c"
   },
   "outputs": [],
   "source": [
    "# sort on second part of tuple"
   ]
  },
  {
   "cell_type": "markdown",
   "metadata": {
    "colab_type": "text",
    "id": "0J-Y-pMilEFs"
   },
   "source": [
    "### Exercise\n",
    "\n",
    "Plot a histogram of degree centrality of authors_graph.\n",
    "\n",
    "Hint: plt.hist(list_of_values) will plot a histogram\n",
    "\n",
    "(count vs degree centrality)"
   ]
  },
  {
   "cell_type": "code",
   "execution_count": null,
   "metadata": {
    "colab": {},
    "colab_type": "code",
    "id": "UVPYgM7hlEFt",
    "outputId": "f7c5c5c6-3219-48c3-bbd5-8220466dbfaa"
   },
   "outputs": [],
   "source": [
    "list_of_values = list(nx.degree_centrality(dolphin_friends).values())\n",
    "\n",
    "# use plot for a histogram\n",
    "# show"
   ]
  },
  {
   "cell_type": "code",
   "execution_count": null,
   "metadata": {},
   "outputs": [],
   "source": [
    "# what about closeness centrality and betweenness centrality?"
   ]
  },
  {
   "cell_type": "markdown",
   "metadata": {
    "colab_type": "text",
    "id": "3ctO5q98lEFv"
   },
   "source": [
    "#### Let's have a look at Connected Components of a graph.\n",
    "\n",
    "In graph theory, a connected component (or just component) of an undirected graph is a subgraph in which any two vertices are connected to each other by paths, and which is connected to no additional vertices in the supergraph."
   ]
  },
  {
   "cell_type": "markdown",
   "metadata": {},
   "source": [
    "#### What happens when have **very large** network data?"
   ]
  },
  {
   "cell_type": "code",
   "execution_count": null,
   "metadata": {
    "colab": {
     "base_uri": "https://localhost:8080/",
     "height": 319
    },
    "colab_type": "code",
    "id": "ZcVLLLr6lEFV",
    "outputId": "06d151ad-6fdf-4d45-e148-4344625aefae"
   },
   "outputs": [],
   "source": [
    "# If six authors wrote a paper together, they will have a complete graph\n",
    "nx.draw(nx.complete_graph(6))\n",
    "# As the number increases, we run the risk of visualizing a \"hairball\""
   ]
  },
  {
   "cell_type": "code",
   "execution_count": null,
   "metadata": {
    "colab": {},
    "colab_type": "code",
    "id": "s7mn1DGnlEFx",
    "outputId": "e4520a4f-2541-4f82-e2ac-cc7a7856690a"
   },
   "outputs": [],
   "source": [
    "G = nx.erdos_renyi_graph(20, 0.03, seed=1)\n",
    "nx.draw(G, with_labels=True)"
   ]
  },
  {
   "cell_type": "markdown",
   "metadata": {
    "colab_type": "text",
    "id": "LrelNhXBlEFU"
   },
   "source": [
    "\n",
    "Arxiv GR-QC (General Relativity and Quantum Cosmology) collaboration network is from the e-print arXiv and covers scientific collaborations between authors papers submitted to General Relativity and Quantum Cosmology category. If an author i co-authored a paper with author j, the graph contains a undirected edge from i to j. If the paper is co-authored by k authors this generates a completely connected (sub)graph on k nodes.\n",
    "\n",
    "source: http://snap.stanford.edu/data/index.html#canets"
   ]
  },
  {
   "cell_type": "code",
   "execution_count": null,
   "metadata": {
    "colab": {},
    "colab_type": "code",
    "id": "uOCVJ2XKlEFZ"
   },
   "outputs": [],
   "source": [
    "authors_graph = nx.Graph()\n",
    "\n",
    "path_to_data = 'https://raw.githubusercontent.com/arcus/education-materials/master/network-viz/ca-GrQc.txt'\n",
    "\n",
    "data = pd.read_csv(path_to_data, sep='\\t', header=None)\n",
    "data.head()\n",
    "\n",
    "for row in data.itertuples():\n",
    "    authors_graph.add_edge(row[0], row[1])\n",
    "    \n",
    "print(authors_graph.number_of_edges())\n",
    "print(authors_graph.number_of_nodes())"
   ]
  },
  {
   "cell_type": "code",
   "execution_count": null,
   "metadata": {
    "colab": {},
    "colab_type": "code",
    "id": "dEr4wBK8lEF0",
    "outputId": "d006a49f-dae7-42eb-bafd-04044ec94f1c"
   },
   "outputs": [],
   "source": [
    "print([len(c) for c in sorted(nx.connected_components(authors_graph),\n",
    "                              key=len, reverse=True)])"
   ]
  },
  {
   "cell_type": "code",
   "execution_count": null,
   "metadata": {
    "colab": {},
    "colab_type": "code",
    "id": "coMVtki9lEF3"
   },
   "outputs": [],
   "source": [
    "#graphs = [c for c in sorted(nx.connected_component_subgraphs(authors_graph), key=len, reverse=True)]\n",
    "\n",
    "graphs = sorted([authors_graph.subgraph(c) for c in nx.connected_components(authors_graph)], key=len, reverse=True)"
   ]
  },
  {
   "cell_type": "code",
   "execution_count": null,
   "metadata": {
    "colab": {},
    "colab_type": "code",
    "id": "-_mutzlRlEF6",
    "outputId": "f5ca3516-1f4b-4951-b110-07e72a277704"
   },
   "outputs": [],
   "source": [
    "# compare lenght of 0th subgraph to, say, the 4th subgraph"
   ]
  },
  {
   "cell_type": "code",
   "execution_count": null,
   "metadata": {
    "colab": {},
    "colab_type": "code",
    "id": "vYimWQ4ClEF9",
    "outputId": "3c9e6f0f-350e-4953-990b-3aa195e01ddd"
   },
   "outputs": [],
   "source": [
    "# use nx.draw to draw subgraph"
   ]
  },
  {
   "cell_type": "markdown",
   "metadata": {
    "colab_type": "text",
    "id": "MYFCi5jWlEGA"
   },
   "source": [
    "##### Shortest Path in the network"
   ]
  },
  {
   "cell_type": "code",
   "execution_count": null,
   "metadata": {
    "colab": {},
    "colab_type": "code",
    "id": "TqwF-hZwlEGE"
   },
   "outputs": [],
   "source": [
    "nx.draw(graphs[25])"
   ]
  },
  {
   "cell_type": "code",
   "execution_count": null,
   "metadata": {
    "colab": {},
    "colab_type": "code",
    "id": "sPzBcu-slEGG",
    "outputId": "3b1a7372-c1e0-4fd8-ad49-aa699c2c51f7"
   },
   "outputs": [],
   "source": [
    "# use nx.shortest_path() to search for shortest possible graph between nodes\n",
    "# takes three parameters\n",
    "\n",
    "# try with other subgraphs.."
   ]
  },
  {
   "cell_type": "code",
   "execution_count": null,
   "metadata": {
    "colab": {},
    "colab_type": "code",
    "id": "_s4NaA_ElEGK",
    "outputId": "fb2002c2-8775-4172-d1e2-20082d6a2d96"
   },
   "outputs": [],
   "source": [
    "print(nx.shortest_path(graphs[0], '22504', '23991'))\n",
    "print(len(nx.shortest_path(graphs[0], '22504', '23991')))\n",
    "print(nx.shortest_path_length(graphs[0], '22504', '23991'))"
   ]
  }
 ],
 "metadata": {
  "colab": {
   "name": "introduction.ipynb",
   "provenance": []
  },
  "kernelspec": {
   "display_name": "Python 3",
   "language": "python",
   "name": "python3"
  },
  "language_info": {
   "codemirror_mode": {
    "name": "ipython",
    "version": 3
   },
   "file_extension": ".py",
   "mimetype": "text/x-python",
   "name": "python",
   "nbconvert_exporter": "python",
   "pygments_lexer": "ipython3",
   "version": "3.7.3"
  }
 },
 "nbformat": 4,
 "nbformat_minor": 1
}
